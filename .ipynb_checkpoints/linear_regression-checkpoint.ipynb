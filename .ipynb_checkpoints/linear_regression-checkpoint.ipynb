{
 "cells": [
  {
   "cell_type": "code",
   "execution_count": null,
   "id": "b194ab95-8751-4cb8-888f-d363eaa2a450",
   "metadata": {},
   "outputs": [],
   "source": [
    "import pandas as pd\n",
    "import sys\n",
    "from sklearn import train_test_split\n",
    "\n",
    "csv_file_path = 'IceCream-temps.csv'\n",
    "df = pd.read_csv(csv_file_path)\n",
    "filtered_df = df[df['Temperature'].isin(temperature_counts[temperature_counts > 1].index)]\n",
    "train_set, test_set = train_test_split(filtered_df, test_size=0.2, random_state=42)\n",
    "\n"
   ]
  },
  {
   "cell_type": "markdown",
   "id": "fd16acae-d64c-4d0a-b80a-c7e5ba604200",
   "metadata": {},
   "source": [
    "Features X: Temperature\n",
    "Target Feature Y: Profits\n",
    "\n",
    "I chose these because I want to use the temperature to predict the daily profit"
   ]
  },
  {
   "cell_type": "code",
   "execution_count": null,
   "id": "aadb1d4b-f2a1-49c2-9e6c-83df0c7cf651",
   "metadata": {},
   "outputs": [],
   "source": []
  }
 ],
 "metadata": {
  "kernelspec": {
   "display_name": "Python 3 (ipykernel)",
   "language": "python",
   "name": "python3"
  },
  "language_info": {
   "codemirror_mode": {
    "name": "ipython",
    "version": 3
   },
   "file_extension": ".py",
   "mimetype": "text/x-python",
   "name": "python",
   "nbconvert_exporter": "python",
   "pygments_lexer": "ipython3",
   "version": "3.12.0"
  }
 },
 "nbformat": 4,
 "nbformat_minor": 5
}
