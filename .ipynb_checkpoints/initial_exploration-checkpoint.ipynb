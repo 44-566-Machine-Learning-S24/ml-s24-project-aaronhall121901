{
 "cells": [
  {
   "cell_type": "code",
   "execution_count": 1,
   "id": "c80ac7ae-3c26-486c-9f06-dd5688a82600",
   "metadata": {},
   "outputs": [
    {
     "ename": "ModuleNotFoundError",
     "evalue": "No module named 'sklearn'",
     "output_type": "error",
     "traceback": [
      "\u001b[1;31m---------------------------------------------------------------------------\u001b[0m",
      "\u001b[1;31mModuleNotFoundError\u001b[0m                       Traceback (most recent call last)",
      "Cell \u001b[1;32mIn[1], line 3\u001b[0m\n\u001b[0;32m      1\u001b[0m \u001b[38;5;28;01mimport\u001b[39;00m \u001b[38;5;21;01mpandas\u001b[39;00m \u001b[38;5;28;01mas\u001b[39;00m \u001b[38;5;21;01mpd\u001b[39;00m\n\u001b[0;32m      2\u001b[0m \u001b[38;5;28;01mimport\u001b[39;00m \u001b[38;5;21;01msys\u001b[39;00m\n\u001b[1;32m----> 3\u001b[0m \u001b[38;5;28;01mfrom\u001b[39;00m \u001b[38;5;21;01msklearn\u001b[39;00m \u001b[38;5;28;01mimport\u001b[39;00m train_test_split \n\u001b[0;32m      5\u001b[0m csv_file_path \u001b[38;5;241m=\u001b[39m \u001b[38;5;124m'\u001b[39m\u001b[38;5;124mIceCream-temps.csv\u001b[39m\u001b[38;5;124m'\u001b[39m\n\u001b[0;32m      6\u001b[0m df \u001b[38;5;241m=\u001b[39m pd\u001b[38;5;241m.\u001b[39mread_csv(csv_file_path)\n",
      "\u001b[1;31mModuleNotFoundError\u001b[0m: No module named 'sklearn'"
     ]
    }
   ],
   "source": [
    "import pandas as pd\n",
    "import sys\n",
    "from sklearn import train_test_split \n",
    "\n",
    "csv_file_path = 'IceCream-temps.csv'\n",
    "df = pd.read_csv(csv_file_path)\n",
    "\n",
    "print(\"keys:\")\n",
    "print(df.columns)\n",
    "print(\"\\n\")\n",
    "\n",
    "sorted_df = df.sort_values(by='Ice Cream Profits', ascending=False)\n",
    "print(sorted_df)\n",
    "\n",
    "temperature_counts = df['Temperature'].value_counts().reset_index(name='Count')\n",
    "# Print the temperature counts\n",
    "print(temperature_counts)"
   ]
  },
  {
   "cell_type": "markdown",
   "id": "1c103e09-c531-48e9-89c6-655bf26f2165",
   "metadata": {},
   "source": [
    "Looking at just a broad overview of the data, there is clearly some sort of correlation between temperature and ice cream sales. However, I am curious to see to what degree this correlation continues."
   ]
  },
  {
   "cell_type": "markdown",
   "id": "79bfc501-0913-459f-8409-acc473e42ef5",
   "metadata": {},
   "source": [
    "I would like to be able to predict the ice cream profits given a temperature, and predict a temperature given an ice cream profit."
   ]
  },
  {
   "cell_type": "code",
   "execution_count": 10,
   "id": "7e0c602e-e6c5-441b-b934-ddde052cdc60",
   "metadata": {},
   "outputs": [
    {
     "name": "stdout",
     "output_type": "stream",
     "text": [
      "     Temperature  Ice Cream Profits\n",
      "4             43              17.02\n",
      "5             43              15.88\n",
      "6             44              19.07\n",
      "7             44              19.57\n",
      "8             45              21.62\n",
      "..           ...                ...\n",
      "360           99              85.13\n",
      "361           99              87.08\n",
      "362           99              89.29\n",
      "363          101              81.91\n",
      "364          101              85.02\n",
      "\n",
      "[358 rows x 2 columns]\n"
     ]
    }
   ],
   "source": [
    "temperature_counts = df['Temperature'].value_counts()\n",
    "\n",
    "# Filter temperatures with more than one occurrence\n",
    "filtered_df = df[df['Temperature'].isin(temperature_counts[temperature_counts > 1].index)]\n",
    "\n",
    "# filtered DataFrame\n",
    "print(filtered_df)"
   ]
  },
  {
   "cell_type": "code",
   "execution_count": 26,
   "id": "0e27e2ae-0d83-4d3a-b43a-ea583b9fe49f",
   "metadata": {},
   "outputs": [
    {
     "ename": "NameError",
     "evalue": "name 'train_test_split' is not defined",
     "output_type": "error",
     "traceback": [
      "\u001b[1;31m---------------------------------------------------------------------------\u001b[0m",
      "\u001b[1;31mNameError\u001b[0m                                 Traceback (most recent call last)",
      "Cell \u001b[1;32mIn[26], line 2\u001b[0m\n\u001b[0;32m      1\u001b[0m \u001b[38;5;66;03m# Split the filtered DataFrame into training and testing sets\u001b[39;00m\n\u001b[1;32m----> 2\u001b[0m train_set, test_set \u001b[38;5;241m=\u001b[39m \u001b[43mtrain_test_split\u001b[49m(filtered_df, test_size\u001b[38;5;241m=\u001b[39m\u001b[38;5;241m0.2\u001b[39m, random_state\u001b[38;5;241m=\u001b[39m\u001b[38;5;241m42\u001b[39m)\n",
      "\u001b[1;31mNameError\u001b[0m: name 'train_test_split' is not defined"
     ]
    }
   ],
   "source": [
    "# Split the filtered DataFrame into training and testing sets\n",
    "train_set, test_set = train_test_split(filtered_df, test_size=0.2, random_state=42)\n",
    "print(\"Training set:\\n\", train_set)\n",
    "print(\"\\nTesting set:\\n\", test_set)"
   ]
  },
  {
   "cell_type": "code",
   "execution_count": null,
   "id": "c795ced9-a921-4bd2-a01a-3006119c3c21",
   "metadata": {},
   "outputs": [],
   "source": []
  }
 ],
 "metadata": {
  "kernelspec": {
   "display_name": "Python 3 (ipykernel)",
   "language": "python",
   "name": "python3"
  },
  "language_info": {
   "codemirror_mode": {
    "name": "ipython",
    "version": 3
   },
   "file_extension": ".py",
   "mimetype": "text/x-python",
   "name": "python",
   "nbconvert_exporter": "python",
   "pygments_lexer": "ipython3",
   "version": "3.12.0"
  }
 },
 "nbformat": 4,
 "nbformat_minor": 5
}
