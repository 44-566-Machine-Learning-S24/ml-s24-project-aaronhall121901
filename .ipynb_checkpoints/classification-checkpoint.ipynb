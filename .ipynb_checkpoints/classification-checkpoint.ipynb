{
 "cells": [
  {
   "cell_type": "code",
   "execution_count": null,
   "id": "eb2d30ba-7759-4796-a148-b45f11bfbf74",
   "metadata": {},
   "outputs": [],
   "source": [
    "import pandas as pd\n",
    "from sklearn.model_selection import train_test_split\n",
    "\n",
    "csv_file_path = 'AmericanFootball98.csv'\n",
    "df = pd.read_csv(csv_file_path)\n",
    "X_train, X_test = train_test_split(df, test_size=0.25, random_state=42)"
   ]
  },
  {
   "cell_type": "markdown",
   "id": "f48562a8-cca3-47f2-be12-68725d30fc9c",
   "metadata": {},
   "source": [
    "X: yards, 1st downs, avg points per drive\n",
    "y: wins\n",
    "\n",
    "I chose these to see if I can predict number of wins based off of yards, 1st downs, and average points per drive. These 3 features seem like they would be good indicators of a teams' success."
   ]
  }
 ],
 "metadata": {
  "kernelspec": {
   "display_name": "Python 3 (ipykernel)",
   "language": "python",
   "name": "python3"
  },
  "language_info": {
   "codemirror_mode": {
    "name": "ipython",
    "version": 3
   },
   "file_extension": ".py",
   "mimetype": "text/x-python",
   "name": "python",
   "nbconvert_exporter": "python",
   "pygments_lexer": "ipython3",
   "version": "3.11.8"
  }
 },
 "nbformat": 4,
 "nbformat_minor": 5
}
