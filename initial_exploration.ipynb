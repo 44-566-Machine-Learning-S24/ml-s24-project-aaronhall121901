{
 "cells": [
  {
   "cell_type": "code",
   "execution_count": 20,
   "id": "c80ac7ae-3c26-486c-9f06-dd5688a82600",
   "metadata": {},
   "outputs": [
    {
     "name": "stdout",
     "output_type": "stream",
     "text": [
      "keys:\n",
      "Index(['Temperature', 'Ice Cream Profits'], dtype='object')\n",
      "\n",
      "\n",
      "     Temperature  Ice Cream Profits\n",
      "362           99              89.29\n",
      "361           99              87.08\n",
      "360           99              85.13\n",
      "364          101              85.02\n",
      "359           98              84.12\n",
      "..           ...                ...\n",
      "3             42              18.65\n",
      "4             43              17.02\n",
      "5             43              15.88\n",
      "0             39              13.17\n",
      "1             40              11.88\n",
      "\n",
      "[365 rows x 2 columns]\n",
      "    Temperature  Count\n",
      "0            77     15\n",
      "1            66     14\n",
      "2            84     13\n",
      "3            68     12\n",
      "4            74     12\n",
      "..          ...    ...\n",
      "57           42      1\n",
      "58           97      1\n",
      "59           98      1\n",
      "60           41      1\n",
      "61           39      1\n",
      "\n",
      "[62 rows x 2 columns]\n"
     ]
    }
   ],
   "source": [
    "import pandas as pd\n",
    "import matplotlib.pyplot as plt\n",
    "from sklearn.model_selection import train_test_split \n",
    "\n",
    "# Read in csv file\n",
    "csv_file_path = 'IceCream-temps.csv'\n",
    "filtered_df = pd.read_csv(csv_file_path)\n",
    "\n",
    "#Print keys\n",
    "print(\"keys:\")\n",
    "print(df.columns)\n",
    "print(\"\\n\")\n",
    "\n",
    "sorted_df = filtered_df.sort_values(by='Ice Cream Profits', ascending=False)\n",
    "print(sorted_df)\n",
    "\n",
    "temperature_counts = filtered_df['Temperature'].value_counts().reset_index(name='Count')\n",
    "# Print the temperature counts\n",
    "print(temperature_counts)"
   ]
  },
  {
   "cell_type": "markdown",
   "id": "1c103e09-c531-48e9-89c6-655bf26f2165",
   "metadata": {},
   "source": [
    "Looking at just a broad overview of the data, there is clearly some sort of correlation between temperature and ice cream sales. However, I am curious to see to what degree this correlation continues."
   ]
  },
  {
   "cell_type": "markdown",
   "id": "79bfc501-0913-459f-8409-acc473e42ef5",
   "metadata": {},
   "source": [
    "I would like to be able to predict the ice cream profits given a temperature, and predict a temperature given an ice cream profit."
   ]
  },
  {
   "cell_type": "code",
   "execution_count": 21,
   "id": "7e0c602e-e6c5-441b-b934-ddde052cdc60",
   "metadata": {},
   "outputs": [
    {
     "name": "stdout",
     "output_type": "stream",
     "text": [
      "     Temperature  Ice Cream Profits\n",
      "0             39              13.17\n",
      "1             40              11.88\n",
      "2             41              18.82\n",
      "3             42              18.65\n",
      "4             43              17.02\n",
      "..           ...                ...\n",
      "360           99              85.13\n",
      "361           99              87.08\n",
      "362           99              89.29\n",
      "363          101              81.91\n",
      "364          101              85.02\n",
      "\n",
      "[365 rows x 2 columns]\n"
     ]
    }
   ],
   "source": [
    "temperature_counts = df['Temperature'].value_counts()\n",
    "\n",
    "# filtered DataFrame\n",
    "print(filtered_df)"
   ]
  },
  {
   "cell_type": "code",
   "execution_count": 22,
   "id": "0e27e2ae-0d83-4d3a-b43a-ea583b9fe49f",
   "metadata": {},
   "outputs": [],
   "source": [
    "# Split data into features (X) and target variable (y)\n",
    "X = filtered_df.drop('Ice Cream Profits', axis=1)\n",
    "y = filtered_df['Ice Cream Profits']\n",
    "\n",
    "# Split data into training and test sets\n",
    "X_train, X_test, y_train, y_test = train_test_split(X, y, test_size=0.2, random_state=42)"
   ]
  },
  {
   "cell_type": "code",
   "execution_count": null,
   "id": "f09c9b0b-8265-48c9-be56-96370a88f8f2",
   "metadata": {},
   "outputs": [],
   "source": []
  }
 ],
 "metadata": {
  "kernelspec": {
   "display_name": "Python 3 (ipykernel)",
   "language": "python",
   "name": "python3"
  },
  "language_info": {
   "codemirror_mode": {
    "name": "ipython",
    "version": 3
   },
   "file_extension": ".py",
   "mimetype": "text/x-python",
   "name": "python",
   "nbconvert_exporter": "python",
   "pygments_lexer": "ipython3",
   "version": "3.11.8"
  }
 },
 "nbformat": 4,
 "nbformat_minor": 5
}
