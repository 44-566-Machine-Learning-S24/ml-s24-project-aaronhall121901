{
 "cells": [
  {
   "cell_type": "code",
   "execution_count": 4,
   "id": "eb2d30ba-7759-4796-a148-b45f11bfbf74",
   "metadata": {},
   "outputs": [],
   "source": [
    "import pandas as pd\n",
    "from sklearn.model_selection import train_test_split\n",
    "from sklearn.tree import DecisionTreeClassifier\n",
    "from sklearn.metrics import accuracy_score\n",
    "\n",
    "csv_file_path = 'AmericanFootball98.csv'\n",
    "df = pd.read_csv(csv_file_path)"
   ]
  },
  {
   "cell_type": "markdown",
   "id": "f48562a8-cca3-47f2-be12-68725d30fc9c",
   "metadata": {},
   "source": [
    "X: yards, 1st downs, avg points per drive\n",
    "y: wins\n",
    "\n",
    "I chose these to see if I can predict number of wins based off of yards, 1st downs, and average points per drive. These 3 features seem like they would be good indicators of a teams' success"
   ]
  },
  {
   "cell_type": "code",
   "execution_count": 5,
   "id": "1971f274-27a6-437f-b3dd-cb73e68e7ab3",
   "metadata": {},
   "outputs": [
    {
     "name": "stdout",
     "output_type": "stream",
     "text": [
      "Accuracy: 0.07738095238095238\n"
     ]
    }
   ],
   "source": [
    "x = df[['yards', '1st downs', 'avg points per drive']]\n",
    "y = df['wins']\n",
    "\n",
    "x_train, x_test, y_train, y_test = train_test_split(x, y, test_size=0.25, random_state=42)\n",
    "clf = DecisionTreeClassifier()\n",
    "clf.fit(x_train, y_train)\n",
    "y_pred = clf.predict(x_test)\n",
    "accuracy = accuracy_score(y_test, y_pred)\n",
    "print(\"Accuracy:\", accuracy)"
   ]
  },
  {
   "cell_type": "markdown",
   "id": "990741f2-2347-4026-884d-29ba1f17daaf",
   "metadata": {},
   "source": [
    "This accuracy is not good (7.7%). Most likely due to teams being within 1-2 wins of eachother with similar stats."
   ]
  },
  {
   "cell_type": "code",
   "execution_count": 6,
   "id": "a34a1d84-46b9-4eab-8567-c9b13842638b",
   "metadata": {},
   "outputs": [
    {
     "name": "stdout",
     "output_type": "stream",
     "text": [
      "Accuracy: 0.14285714285714285\n"
     ]
    }
   ],
   "source": [
    "from sklearn.svm import SVC\n",
    "x_train, x_test, y_train, y_test = train_test_split(x, y, test_size=0.25, random_state=42)\n",
    "clf = SVC()\n",
    "clf.fit(x_train, y_train)\n",
    "\n",
    "# Make predictions on the testing set\n",
    "y_pred = clf.predict(x_test)\n",
    "\n",
    "# Calculate accuracy\n",
    "accuracy = accuracy_score(y_test, y_pred)\n",
    "print(\"Accuracy:\", accuracy)"
   ]
  },
  {
   "cell_type": "markdown",
   "id": "4502efb1-9a6c-49ff-8f4d-ec3dee3ae9e1",
   "metadata": {},
   "source": [
    "Better accuracy, still not great."
   ]
  },
  {
   "cell_type": "code",
   "execution_count": 10,
   "id": "b92c2581-dce7-4024-9b68-ca72ffbb7130",
   "metadata": {},
   "outputs": [
    {
     "name": "stdout",
     "output_type": "stream",
     "text": [
      "Accuracy: 0.14285714285714285\n",
      "\n",
      "Classification Report:\n",
      "              precision    recall  f1-score   support\n",
      "\n",
      "           1       1.00      0.00      0.00         2\n",
      "           2       1.00      0.00      0.00         3\n",
      "           3       1.00      0.00      0.00         4\n",
      "           4       1.00      0.00      0.00         9\n",
      "           5       0.00      0.00      0.00        13\n",
      "           6       1.00      0.00      0.00        21\n",
      "           7       0.13      0.59      0.21        17\n",
      "           8       0.14      0.41      0.21        17\n",
      "           9       1.00      0.00      0.00        20\n",
      "          10       0.18      0.44      0.26        16\n",
      "          11       1.00      0.00      0.00        19\n",
      "          12       1.00      0.00      0.00        13\n",
      "          13       1.00      0.00      0.00        11\n",
      "          14       1.00      0.00      0.00         3\n",
      "\n",
      "    accuracy                           0.14       168\n",
      "   macro avg       0.75      0.10      0.05       168\n",
      "weighted avg       0.67      0.14      0.07       168\n",
      "\n",
      "\n"
     ]
    }
   ],
   "source": [
    "from sklearn.metrics import classification_report\n",
    "\n",
    "test_accuracy = accuracy_score(y_test, y_pred)\n",
    "print(\"Accuracy:\", test_accuracy)\n",
    "print(\"\")\n",
    "\n",
    "print(\"Classification Report:\")\n",
    "print(classification_report(y_test, y_pred, zero_division=1))\n",
    "print(\"\")"
   ]
  },
  {
   "cell_type": "code",
   "execution_count": null,
   "id": "c19674b3-38cf-475e-a401-8a33b859d3f3",
   "metadata": {},
   "outputs": [],
   "source": []
  }
 ],
 "metadata": {
  "kernelspec": {
   "display_name": "Python 3 (ipykernel)",
   "language": "python",
   "name": "python3"
  },
  "language_info": {
   "codemirror_mode": {
    "name": "ipython",
    "version": 3
   },
   "file_extension": ".py",
   "mimetype": "text/x-python",
   "name": "python",
   "nbconvert_exporter": "python",
   "pygments_lexer": "ipython3",
   "version": "3.11.8"
  }
 },
 "nbformat": 4,
 "nbformat_minor": 5
}
